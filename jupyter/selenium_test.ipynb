{
 "cells": [
  {
   "cell_type": "markdown",
   "id": "07555066-e468-4e4e-9e5e-702bc17a323b",
   "metadata": {},
   "source": [
    "# Chrome"
   ]
  },
  {
   "cell_type": "code",
   "execution_count": 2,
   "id": "1f4b7b43-163d-4653-a6f8-510c3050261c",
   "metadata": {
    "scrolled": true
   },
   "outputs": [
    {
     "name": "stdout",
     "output_type": "stream",
     "text": [
      "Google\n"
     ]
    }
   ],
   "source": [
    "from selenium import webdriver\n",
    "\n",
    "selenium_url = 'http://selenium_server_chrome:4444/wd/hub'\n",
    "# selenium_url = 'http://127.0.0.1:4444/wd/hub'\n",
    "\n",
    "options = webdriver.ChromeOptions()\n",
    "driver = webdriver.Remote(\n",
    "    command_executor=selenium_url,\n",
    "    options=options\n",
    ")\n",
    "\n",
    "driver.get(\"https://www.google.com\")\n",
    "print(driver.title)\n",
    "\n",
    "driver.quit()"
   ]
  },
  {
   "cell_type": "markdown",
   "id": "d60c2d20-d844-4fd5-b62f-f9e3cd6c20f6",
   "metadata": {},
   "source": [
    "# Chromium"
   ]
  },
  {
   "cell_type": "code",
   "execution_count": 7,
   "id": "3e772fd6-2eb4-45c1-84d1-05b489531eb2",
   "metadata": {},
   "outputs": [
    {
     "name": "stdout",
     "output_type": "stream",
     "text": [
      "Google\n"
     ]
    }
   ],
   "source": [
    "from selenium import webdriver\n",
    "\n",
    "selenium_url = 'http://selenium_server_chromium:4444/wd/hub'\n",
    "# selenium_url = 'http://127.0.0.1:4444/wd/hub'\n",
    "\n",
    "options = webdriver.ChromeOptions()\n",
    "driver = webdriver.Remote(\n",
    "    command_executor=selenium_url,\n",
    "    options=options\n",
    ")\n",
    "\n",
    "driver.get(\"https://www.google.com\")\n",
    "print(driver.title)\n",
    "\n",
    "driver.quit()"
   ]
  },
  {
   "cell_type": "markdown",
   "id": "307f6f3f-321c-44a4-8c2d-6a2cf9512883",
   "metadata": {},
   "source": [
    "# Firefox"
   ]
  },
  {
   "cell_type": "code",
   "execution_count": 3,
   "id": "1736cd04-aad9-4045-a654-8ea9d3444fa7",
   "metadata": {},
   "outputs": [
    {
     "name": "stdout",
     "output_type": "stream",
     "text": [
      "Google\n"
     ]
    }
   ],
   "source": [
    "from selenium import webdriver\n",
    "\n",
    "selenium_url = 'http://selenium_server_firefox:4444/wd/hub'\n",
    "# selenium_url = 'http://127.0.0.1:4444/wd/hub'\n",
    "\n",
    "options = webdriver.FirefoxOptions()\n",
    "driver = webdriver.Remote(\n",
    "    command_executor=selenium_url,\n",
    "    options=options\n",
    ")\n",
    "\n",
    "driver.get(\"https://www.google.com\")\n",
    "print(driver.title)\n",
    "\n",
    "driver.quit()"
   ]
  },
  {
   "cell_type": "code",
   "execution_count": null,
   "id": "1c03d86e-ef5f-4f7b-b7ba-924cc5a2c348",
   "metadata": {},
   "outputs": [],
   "source": []
  },
  {
   "cell_type": "code",
   "execution_count": null,
   "id": "c7267377-172b-4bd3-9e4a-6f54f1fbf89b",
   "metadata": {},
   "outputs": [],
   "source": []
  },
  {
   "cell_type": "code",
   "execution_count": null,
   "id": "1617030b-74f2-4c96-a3bd-d0dfe2086c6a",
   "metadata": {},
   "outputs": [],
   "source": []
  },
  {
   "cell_type": "code",
   "execution_count": null,
   "id": "2704f848-fe35-4beb-9d27-9eb76b957e50",
   "metadata": {},
   "outputs": [],
   "source": []
  },
  {
   "cell_type": "code",
   "execution_count": null,
   "id": "519b7bb8-b3e5-4a84-9ca9-28e6732428e1",
   "metadata": {},
   "outputs": [],
   "source": []
  },
  {
   "cell_type": "code",
   "execution_count": null,
   "id": "3f5e2e79-6b0c-45bf-953a-2dce8ac5eee3",
   "metadata": {},
   "outputs": [],
   "source": []
  }
 ],
 "metadata": {
  "kernelspec": {
   "display_name": "Python 3 (ipykernel)",
   "language": "python",
   "name": "python3"
  },
  "language_info": {
   "codemirror_mode": {
    "name": "ipython",
    "version": 3
   },
   "file_extension": ".py",
   "mimetype": "text/x-python",
   "name": "python",
   "nbconvert_exporter": "python",
   "pygments_lexer": "ipython3",
   "version": "3.11.6"
  }
 },
 "nbformat": 4,
 "nbformat_minor": 5
}
